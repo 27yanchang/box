{
  "nbformat": 4,
  "nbformat_minor": 0,
  "metadata": {
    "colab": {
      "provenance": []
    },
    "kernelspec": {
      "name": "python3",
      "display_name": "Python 3"
    },
    "language_info": {
      "name": "python"
    }
  },
  "cells": [
    {
      "cell_type": "markdown",
      "source": [
        "Ans1"
      ],
      "metadata": {
        "id": "DK9VRb29OLn0"
      }
    },
    {
      "cell_type": "code",
      "source": [
        "class Solution:\n",
        "    def isValid(self, s: str) -> bool:\n",
        "        if len(s) % 2 == 1:\n",
        "            return False\n",
        "\n",
        "        pairs = {\n",
        "            \")\": \"(\",\n",
        "            \"]\": \"[\",\n",
        "            \"}\": \"{\",\n",
        "        }\n",
        "        stack = list()\n",
        "        for ch in s:\n",
        "            if ch in pairs:\n",
        "                if not stack or stack[-1] != pairs[ch]:\n",
        "                    return False\n",
        "                stack.pop()\n",
        "            else:\n",
        "                stack.append(ch)\n",
        "\n",
        "        return not stack\n"
      ],
      "metadata": {
        "id": "HxdiTLNUO072"
      },
      "execution_count": null,
      "outputs": []
    },
    {
      "cell_type": "markdown",
      "source": [
        "Ans2"
      ],
      "metadata": {
        "id": "-jFBwDAQPOpe"
      }
    },
    {
      "cell_type": "code",
      "source": [
        "from collections import deque\n",
        "\n",
        "class Solution:\n",
        "    def isValid(self, s: str) -> bool:\n",
        "        if len(s) % 2 == 1:\n",
        "            return False\n",
        "\n",
        "        pairs = {\")\": \"(\", \"]\": \"[\", \"}\": \"{\"}\n",
        "        stack = deque()\n",
        "\n",
        "        for ch in s:\n",
        "            if ch in pairs:\n",
        "                if not stack or stack.pop() != pairs[ch]:\n",
        "                    return False\n",
        "            else:\n",
        "                stack.append(ch)\n",
        "\n",
        "        return not stack\n"
      ],
      "metadata": {
        "id": "BFcjcTYSPS_i"
      },
      "execution_count": null,
      "outputs": []
    }
  ]
}